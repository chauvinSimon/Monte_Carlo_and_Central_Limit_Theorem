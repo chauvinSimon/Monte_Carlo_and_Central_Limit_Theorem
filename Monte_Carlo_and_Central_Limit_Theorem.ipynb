{
 "cells": [
  {
   "cell_type": "markdown",
   "metadata": {},
   "source": [
    "Monte_Carlo_and_Central_Limit_Theorem\n",
    "\n",
    "Motivations:\n",
    "- use of **Monte Carlo** methods\n",
    "- application to the **Central Limit Theorem**\n",
    "- comparison with analytical derivation"
   ]
  },
  {
   "cell_type": "markdown",
   "metadata": {},
   "source": [
    "*Here's the problem:*\n",
    "- How many packs of football stickers must you buy to fill a world cup album 90% of the time?\n",
    "- Assume 5 stickers per pack randomly shuffled, 300 stickers to collect in total, no swapping allowed!"
   ]
  },
  {
   "cell_type": "markdown",
   "metadata": {},
   "source": [
    "Let T be our random variable: number of packs needed to collect the 300 stickers\n",
    "- We do not know its distribution.\n",
    "- We will approximate it with MC-sampling\n",
    "- We will derive its mean and std analytically \n",
    "\n",
    "Plan:\n",
    "- 1- warm up: expected packs to get p=90% of the stickers\n",
    "- 2- coupon collector: analytical derivation of mean and std\n",
    "- 3- Monte Carlo method: approximate the distribution"
   ]
  },
  {
   "cell_type": "code",
   "execution_count": 13,
   "metadata": {},
   "outputs": [],
   "source": [
    "import math"
   ]
  },
  {
   "cell_type": "code",
   "execution_count": 14,
   "metadata": {},
   "outputs": [],
   "source": [
    "# 1- warm-up\n",
    "# this is for another question: expected packs to get p=90% of the stickers\n",
    "def solver(p):\n",
    "    stop = p * 300\n",
    "    res = 0\n",
    "    for i in range(int(stop)):\n",
    "        res += 1 / (300 - i)\n",
    "    # there are 5 stickers per pack \n",
    "    res = res * 300 / 5\n",
    "    return(res)"
   ]
  },
  {
   "cell_type": "code",
   "execution_count": 15,
   "metadata": {},
   "outputs": [
    {
     "name": "stdout",
     "output_type": "stream",
     "text": [
      "137.26060496274664\n"
     ]
    }
   ],
   "source": [
    "# answer = 137.26\n",
    "answer = solver(0.9)\n",
    "print(answer)"
   ]
  },
  {
   "cell_type": "code",
   "execution_count": 16,
   "metadata": {},
   "outputs": [
    {
     "name": "stdout",
     "output_type": "stream",
     "text": [
      "expected_value = 376.9598328179701\n",
      "variance = 5909.782618431441\n",
      "standard deviation = 76.8751105263039\n"
     ]
    }
   ],
   "source": [
    "# 2- analytical derivation of mean and std\n",
    "# https://en.wikipedia.org/wiki/Coupon_collector's_problem\n",
    "# https://www.youtube.com/watch?v=3mu47FWEuqA\n",
    "# E[T] = n . Hn = n * (1/1 + 1/2 + ... + 1/ n)\n",
    "# Var[T] = n^2 * (1/1 + 1/2^2 + ... + 1/ n^2)\n",
    "expected_value = 0\n",
    "variance = 0\n",
    "for i in range(300):\n",
    "    expected_value += 1 / (1+i) \n",
    "    variance += 1 / (1+i) ** 2 \n",
    "\n",
    "# there are 5 stickers per pack \n",
    "expected_value *= 300 / 5\n",
    "variance *= (300 / 5) ** 2  # if you doubt if it should be (300/5)^2 or (300)^2/5, think of units\n",
    "print(\"expected_value = {}\".format(expected_value))\n",
    "print(\"variance = {}\".format(variance))\n",
    "print(\"standard deviation = {}\".format(math.sqrt(variance)))"
   ]
  },
  {
   "cell_type": "code",
   "execution_count": 17,
   "metadata": {},
   "outputs": [
    {
     "name": "stdout",
     "output_type": "stream",
     "text": [
      "t = 475.5137245126917\n"
     ]
    }
   ],
   "source": [
    "# with the Central Limit Theorem\n",
    "import math\n",
    "z = 1.282  # for one-tail notmalized normal distribution at 0.8997\n",
    "# Alternative: write the integrale for N(0, 1), from −inf to x, set it equal to .90, and solve for x\n",
    "\n",
    "t = z * math.sqrt(variance) + expected_value\n",
    "print(\"t = {}\".format(t))\n",
    "# answer = 475.5"
   ]
  },
  {
   "cell_type": "code",
   "execution_count": 18,
   "metadata": {},
   "outputs": [],
   "source": [
    "# note: 597.33 if we take the variance with (300 ** 2 / 5)\n",
    "# If assuming 1 sticker per pack, t = 2377.568622. t/5 = 475.5\n",
    "# If using multiplication factors (300/5) and (300/5)**2 in the estimate / variance, t = 475.5"
   ]
  },
  {
   "cell_type": "code",
   "execution_count": 23,
   "metadata": {},
   "outputs": [],
   "source": [
    "# Instead of running the experiment, load the results I collected:\n",
    "import pickle\n",
    "\n",
    "# with open(\"mc_sample.txt\", \"wb\") as fp:\n",
    "#     pickle.dump(res_experiments, fp)\n",
    "\n",
    "with open(\"mc_sample.txt\", \"rb\") as fp:   # Unpickling\n",
    "    res_experiments = pickle.load(fp)\n",
    "    \n",
    "full_size = 300\n",
    "n_experiments = 100000"
   ]
  },
  {
   "cell_type": "code",
   "execution_count": null,
   "metadata": {},
   "outputs": [],
   "source": [
    "# 3- Monte Carlo method\n",
    "import random\n",
    "# note: one could have used a set instead\n",
    "res_experiments = []\n",
    "for k in range(n_experiments):\n",
    "    res_list = []\n",
    "    counter = 0\n",
    "    while len(res_list) < full_size:\n",
    "        counter += 1\n",
    "        for j in range(5):\n",
    "            sample = random.randint(1, full_size)\n",
    "            if sample not in res_list:\n",
    "                res_list.append(sample)\n",
    "    res_experiments.append(counter)\n",
    "# print(sorted(res_experiments))"
   ]
  },
  {
   "cell_type": "code",
   "execution_count": 26,
   "metadata": {},
   "outputs": [],
   "source": [
    "# count 90%\n",
    "answer = sorted(res_experiments)[int(len(res_experiments)*0.9)]"
   ]
  },
  {
   "cell_type": "code",
   "execution_count": 27,
   "metadata": {},
   "outputs": [
    {
     "data": {
      "image/png": "[encoded data removed]",
      "text/plain": [
       "<Figure size 432x288 with 1 Axes>"
      ]
     },
     "metadata": {},
     "output_type": "display_data"
    },
    {
     "name": "stdout",
     "output_type": "stream",
     "text": [
      "477\n"
     ]
    },
    {
     "data": {
      "text/plain": [
       "<Figure size 432x288 with 0 Axes>"
      ]
     },
     "metadata": {},
     "output_type": "display_data"
    }
   ],
   "source": [
    "import matplotlib.pyplot as plt\n",
    "plt.hist(res_experiments, full_size)\n",
    "plt.axvline(x=answer, c=\"red\")\n",
    "plt.show()\n",
    "print(answer)\n",
    "plt.savefig(\"res_experiments.png\")"
   ]
  },
  {
   "cell_type": "code",
   "execution_count": 49,
   "metadata": {},
   "outputs": [
    {
     "name": "stdout",
     "output_type": "stream",
     "text": [
      "expected_value = 377.18694\n",
      "standard deviation = 75.99272381903678\n"
     ]
    },
    {
     "data": {
      "image/png": "[encoded data removed]",
      "text/plain": [
       "<Figure size 432x288 with 2 Axes>"
      ]
     },
     "metadata": {},
     "output_type": "display_data"
    }
   ],
   "source": [
    "# I try to plot the Gaussian distribution with computed (mean+std). But problem with scaling. Sol: use two axes\n",
    "\n",
    "import numpy as np\n",
    "import matplotlib.pyplot as plt\n",
    "from scipy.stats import norm\n",
    "\n",
    "(mu, sigma) = norm.fit(res_experiments)\n",
    "\n",
    "print(\"expected_value = {}\".format(mu))\n",
    "print(\"standard deviation = {}\".format(sigma))\n",
    "\n",
    "fig, ax1 = plt.subplots()\n",
    "ax2 = ax1.twinx()\n",
    "\n",
    "x = np.linspace(0, 1000, 100)\n",
    "p = norm.pdf(x, mu, sigma)\n",
    "\n",
    "ax1.plot(x, p, 'k', linewidth=2)\n",
    "ax2.hist(res_experiments, full_size)\n",
    "ax1.set_ylim([0, max(p)])\n",
    "ax2.set_ylim([0, 2.2*max(res_experiments)])\n",
    "plt.axvline(x=answer, c=\"red\")\n",
    "\n",
    "fig.tight_layout()  # otherwise the right y-label is slightly clipped\n",
    "plt.savefig(\"two_res_experiments.png\")\n",
    "plt.show()"
   ]
  },
  {
   "cell_type": "markdown",
   "metadata": {},
   "source": [
    "It is not fitting perfecty the bell shape.\n",
    "Having many samples helped refining the unknown distribution. It is not Gaussian.\n",
    "\n",
    "Now, the **CLT** states that some sum from these samples should be made:\n",
    "- When independent random variables are added,\n",
    "- their properly normalized **SUM** (often applied to the average) tends toward a normal distribution\n",
    "- even if the original variables themselves are not normally distributed (they are clearly not Normal).\n",
    "\n",
    "Two parameters:\n",
    "- how many elements in the sum (here just one)\n",
    "- how many experiments to compute the average (here we use a lot)\n",
    "\n",
    "What we should do is:\n",
    "- sum the result from 10 experiments\n",
    "- divide the sum by 10\n",
    "- store that number in the list\n",
    "- repeat to get a list of size 3000\n",
    "- plot it\n",
    "- it should be \"more\" Normal\n",
    "\n",
    "This does not help sovling the problem, but just to better understand the CLT"
   ]
  },
  {
   "cell_type": "code",
   "execution_count": 33,
   "metadata": {},
   "outputs": [
    {
     "name": "stdout",
     "output_type": "stream",
     "text": [
      "408.8\n"
     ]
    }
   ],
   "source": [
    "sums = [sum(res_experiments[i:i+10]) for i in range(0,len(res_experiments), 10)]\n",
    "# print(sums)\n",
    "averages = [e/10 for e in sums]\n",
    "answer_averages = sorted(averages)[int(len(averages)*0.9)]\n",
    "print(answer_averages)"
   ]
  },
  {
   "cell_type": "code",
   "execution_count": 47,
   "metadata": {},
   "outputs": [
    {
     "data": {
      "image/png": "[encoded data removed]",
      "text/plain": [
       "<Figure size 432x288 with 1 Axes>"
      ]
     },
     "metadata": {},
     "output_type": "display_data"
    }
   ],
   "source": [
    "import matplotlib.pyplot as plt\n",
    "plt.hist(averages, full_size)\n",
    "plt.axvline(x=answer_averages, c=\"red\")\n",
    "plt.savefig(\"res_experiments.png\")\n",
    "plt.show()"
   ]
  },
  {
   "cell_type": "code",
   "execution_count": 51,
   "metadata": {},
   "outputs": [
    {
     "name": "stdout",
     "output_type": "stream",
     "text": [
      "expected_value = 377.18694\n",
      "standard deviation = 24.062394091951866\n"
     ]
    },
    {
     "data": {
      "image/png": "[encoded data removed]",
      "text/plain": [
       "<Figure size 432x288 with 2 Axes>"
      ]
     },
     "metadata": {},
     "output_type": "display_data"
    }
   ],
   "source": [
    "import numpy as np\n",
    "import matplotlib.pyplot as plt\n",
    "from scipy.stats import norm\n",
    "\n",
    "(mu_av, sigma_av) = norm.fit(averages)\n",
    "\n",
    "print(\"expected_value = {}\".format(mu_av))\n",
    "print(\"standard deviation = {}\".format(sigma_av))\n",
    "\n",
    "fig, ax1 = plt.subplots()\n",
    "ax2 = ax1.twinx()\n",
    "\n",
    "x = np.linspace(0, 1000, 100)\n",
    "p = norm.pdf(x, mu_av, sigma_av)\n",
    "\n",
    "ax1.plot(x, p, 'k', linewidth=2)\n",
    "ax2.hist(averages, full_size)\n",
    "ax1.set_ylim([0, max(p)])\n",
    "# ax2.set_ylim([0, 0.3*max(averages)])\n",
    "plt.axvline(x=answer_averages, c=\"red\")\n",
    "\n",
    "fig.tight_layout()  # otherwise the right y-label is slightly clipped\n",
    "plt.savefig(\"two_res_experiments_av.png\")\n",
    "plt.show()"
   ]
  },
  {
   "cell_type": "code",
   "execution_count": 36,
   "metadata": {},
   "outputs": [
    {
     "name": "stdout",
     "output_type": "stream",
     "text": [
      "24.03331021727968\n"
     ]
    }
   ],
   "source": [
    "# Note: the standard deviation is sigma[1 experiment] / sqrt(n):\n",
    "print(76/math.sqrt(10))"
   ]
  },
  {
   "cell_type": "code",
   "execution_count": 37,
   "metadata": {},
   "outputs": [
    {
     "name": "stdout",
     "output_type": "stream",
     "text": [
      "             mc sampling 1-elem  analytical  mc sampling 10-elem\n",
      "expectation          377.186940  376.959833           377.186940\n",
      "std                   75.992724   76.875111            24.062394\n"
     ]
    }
   ],
   "source": [
    "# print results\n",
    "import pandas as pd\n",
    "res = {\"mc sampling 1-elem\": [mu, sigma], \"analytical\": [expected_value, math.sqrt(variance)], \"mc sampling 10-elem\": [mu_av, sigma_av]}\n",
    "df = pd.DataFrame(res, index=['expectation', 'std'])\n",
    "print(df)"
   ]
  },
  {
   "cell_type": "code",
   "execution_count": null,
   "metadata": {},
   "outputs": [],
   "source": []
  }
 ],
 "metadata": {
  "kernelspec": {
   "display_name": "Python 3",
   "language": "python",
   "name": "python3"
  },
  "language_info": {
   "codemirror_mode": {
    "name": "ipython",
    "version": 3
   },
   "file_extension": ".py",
   "mimetype": "text/x-python",
   "name": "python",
   "nbconvert_exporter": "python",
   "pygments_lexer": "ipython3",
   "version": "3.6.5"
  }
 },
 "nbformat": 4,
 "nbformat_minor": 2
}
